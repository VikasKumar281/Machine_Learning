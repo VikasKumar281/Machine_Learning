{
 "cells": [
  {
   "cell_type": "markdown",
   "id": "fa92c4a7-0b8f-4093-87be-cbb04bcac714",
   "metadata": {},
   "source": [
    "# Using Class ------------------------------------>\n"
   ]
  },
  {
   "cell_type": "markdown",
   "id": "4cb6b4e9-d92b-4462-9568-b48f73d08fbe",
   "metadata": {},
   "source": [
    "## Here we will find the value of Intercebt 'b'"
   ]
  },
  {
   "cell_type": "code",
   "execution_count": 2,
   "id": "30d81115-1aa7-4f36-ac56-d2096eb6a4a5",
   "metadata": {},
   "outputs": [],
   "source": [
    "from sklearn.datasets import make_regression\n",
    "import matplotlib.pyplot as plt\n",
    "import numpy as np"
   ]
  },
  {
   "cell_type": "code",
   "execution_count": 4,
   "id": "61643827-ae32-4e60-b964-20fe99d6be12",
   "metadata": {},
   "outputs": [],
   "source": [
    "X , y = make_regression(n_samples = 100 , n_features = 1 , n_informative =1 , n_targets = 1 , noise =20)"
   ]
  },
  {
   "cell_type": "code",
   "execution_count": 8,
   "id": "8d0c290b-6e3b-4c26-b3f8-c3cea7ec2f95",
   "metadata": {},
   "outputs": [
    {
     "data": {
      "text/plain": [
       "array([[-0.2156463 ],\n",
       "       [ 2.61845919],\n",
       "       [-1.31178928],\n",
       "       [ 0.83227664],\n",
       "       [ 0.18670169],\n",
       "       [-0.56372401],\n",
       "       [ 2.63095283],\n",
       "       [ 0.30535564],\n",
       "       [-0.46468843],\n",
       "       [-1.2324065 ],\n",
       "       [ 0.23975348],\n",
       "       [-0.31889096],\n",
       "       [ 1.15460996],\n",
       "       [ 0.36643273],\n",
       "       [ 0.18815402],\n",
       "       [-1.54640689],\n",
       "       [ 1.36875351],\n",
       "       [-1.28300068],\n",
       "       [ 0.45351295],\n",
       "       [-1.55463824],\n",
       "       [-0.05682046],\n",
       "       [-0.25778452],\n",
       "       [-1.41335018],\n",
       "       [ 0.31646822],\n",
       "       [-0.65370489],\n",
       "       [ 0.29233673],\n",
       "       [ 1.74986254],\n",
       "       [ 0.34633294],\n",
       "       [ 1.34415552],\n",
       "       [-0.91396508],\n",
       "       [-0.83727233],\n",
       "       [ 0.12704816],\n",
       "       [ 0.1962522 ],\n",
       "       [ 0.45427819],\n",
       "       [ 1.03970263],\n",
       "       [ 0.05016894],\n",
       "       [ 0.80287483],\n",
       "       [-1.04988617],\n",
       "       [ 0.27793857],\n",
       "       [-0.20504195],\n",
       "       [ 1.29194776],\n",
       "       [-0.64008463],\n",
       "       [ 0.08270606],\n",
       "       [ 0.0124132 ],\n",
       "       [ 0.21636468],\n",
       "       [-0.13801798],\n",
       "       [-0.57796711],\n",
       "       [-0.11264753],\n",
       "       [-0.51446988],\n",
       "       [ 0.87922493],\n",
       "       [-0.20113349],\n",
       "       [ 1.09239576],\n",
       "       [-0.10078805],\n",
       "       [ 0.34217319],\n",
       "       [-0.01194986],\n",
       "       [-0.71346211],\n",
       "       [ 1.73519766],\n",
       "       [ 0.30470849],\n",
       "       [ 0.6174571 ],\n",
       "       [ 0.33785236],\n",
       "       [ 0.645842  ],\n",
       "       [-0.67328501],\n",
       "       [ 0.14971107],\n",
       "       [ 0.46286458],\n",
       "       [-0.08916495],\n",
       "       [ 1.17404818],\n",
       "       [-1.04985847],\n",
       "       [ 1.0185761 ],\n",
       "       [-1.01078185],\n",
       "       [-0.73197142],\n",
       "       [-0.76352972],\n",
       "       [-0.21736143],\n",
       "       [-0.03254243],\n",
       "       [ 0.98546519],\n",
       "       [ 0.5798131 ],\n",
       "       [-0.39197156],\n",
       "       [ 0.21624634],\n",
       "       [-0.7669948 ],\n",
       "       [-0.11860167],\n",
       "       [-0.74891909],\n",
       "       [ 0.22574891],\n",
       "       [-0.46087217],\n",
       "       [-0.50368671],\n",
       "       [ 0.59740943],\n",
       "       [-0.21569681],\n",
       "       [-0.1779808 ],\n",
       "       [-0.03039548],\n",
       "       [-0.13872703],\n",
       "       [ 0.07707329],\n",
       "       [-0.34784012],\n",
       "       [ 0.18845051],\n",
       "       [-0.31644685],\n",
       "       [ 0.46909441],\n",
       "       [-0.73325931],\n",
       "       [ 0.90752211],\n",
       "       [ 0.93877065],\n",
       "       [ 0.00720776],\n",
       "       [-1.14672013],\n",
       "       [-1.60067851],\n",
       "       [-0.67812041]])"
      ]
     },
     "execution_count": 8,
     "metadata": {},
     "output_type": "execute_result"
    }
   ],
   "source": [
    "X"
   ]
  },
  {
   "cell_type": "code",
   "execution_count": 10,
   "id": "1229b878-9fc5-4b8b-b0db-fdee24a002f5",
   "metadata": {},
   "outputs": [
    {
     "data": {
      "text/plain": [
       "<matplotlib.collections.PathCollection at 0x128f1c5c5c0>"
      ]
     },
     "execution_count": 10,
     "metadata": {},
     "output_type": "execute_result"
    },
    {
     "data": {
      "image/png": "[encoded data removed]",
      "text/plain": [
       "<Figure size 640x480 with 1 Axes>"
      ]
     },
     "metadata": {},
     "output_type": "display_data"
    }
   ],
   "source": [
    "plt.scatter(X , y)"
   ]
  },
  {
   "cell_type": "code",
   "execution_count": 14,
   "id": "898904d0-8245-42b8-b8b3-ab976e1f6729",
   "metadata": {},
   "outputs": [],
   "source": [
    "from sklearn.linear_model import LinearRegression"
   ]
  },
  {
   "cell_type": "code",
   "execution_count": 16,
   "id": "e6141315-30f5-4247-9ed3-eea172c87543",
   "metadata": {},
   "outputs": [],
   "source": [
    "lr = LinearRegression()\n"
   ]
  },
  {
   "cell_type": "code",
   "execution_count": 18,
   "id": "590ec3c8-f428-4edd-9f1d-a59222481b5c",
   "metadata": {},
   "outputs": [
    {
     "name": "stdout",
     "output_type": "stream",
     "text": [
      "[80.71201871]\n",
      "-0.09782848888763951\n"
     ]
    }
   ],
   "source": [
    "lr.fit(X,y)\n",
    "print(lr.coef_)\n",
    "print(lr.intercept_)"
   ]
  },
  {
   "cell_type": "code",
   "execution_count": 26,
   "id": "f30949fa-51c7-4f77-8913-7ab7e946d9f6",
   "metadata": {},
   "outputs": [],
   "source": [
    "m = 80.71\n",
    "\n",
    "# We will take Original slope but not original intercept we will take random value of intercept"
   ]
  },
  {
   "cell_type": "code",
   "execution_count": 54,
   "id": "67aa6614-8546-49bb-adf2-03b57d676e8f",
   "metadata": {},
   "outputs": [],
   "source": [
    "class GDRegressor:\n",
    "\n",
    "    def __init__(self , learning_rate , epochs):\n",
    "        self.m = 80.71\n",
    "        self.b = -120\n",
    "        self.lr = learning_rate\n",
    "        self.epochs = epochs\n",
    "\n",
    "    def fit(self ,X , y):\n",
    "        # Calculate b using Gradient Descent --------------->\n",
    "        for i in range(self.epochs):\n",
    "            loss_slope = -2 * np.sum( y - self.m * X.ravel() - self.b)\n",
    "            self.b = self.b - (self.lr * loss_slope) \n",
    "            print(loss_slope , self.b)\n",
    "        print(self.b)    \n",
    "        \n",
    "        "
   ]
  },
  {
   "cell_type": "code",
   "execution_count": 56,
   "id": "c510667e-25d6-43c5-8a1d-cf46c1f35c9c",
   "metadata": {},
   "outputs": [],
   "source": [
    "GD = GDRegressor(0.001 , 100)"
   ]
  },
  {
   "cell_type": "code",
   "execution_count": 58,
   "id": "d0b76e05-5a54-4394-b71f-fc9e6dfba2ef",
   "metadata": {},
   "outputs": [
    {
     "name": "stdout",
     "output_type": "stream",
     "text": [
      "-23980.446671767677 -96.01955332823232\n",
      "-19184.357337414145 -76.83519599081818\n",
      "-15347.48586993131 -61.48771012088687\n",
      "-12277.988695945049 -49.20972142494182\n",
      "-9822.390956756037 -39.38733046818578\n",
      "-7857.912765404829 -31.52941770278095\n",
      "-6286.330212323864 -25.243087490457086\n",
      "-5029.064169859092 -20.214023320597995\n",
      "-4023.2513358872725 -16.19077198471072\n",
      "-3218.6010687098183 -12.972170916000904\n",
      "-2574.8808549678542 -10.39729006103305\n",
      "-2059.9046839742837 -8.337385377058766\n",
      "-1647.923747179427 -6.689461629879339\n",
      "-1318.3389977435415 -5.371122632135797\n",
      "-1054.6711981948333 -4.316451433940964\n",
      "-843.7369585558664 -3.4727144753850974\n",
      "-674.9895668446931 -2.7977249085404043\n",
      "-539.9916534757547 -2.2577332550646494\n",
      "-431.9933227806038 -1.8257399322840455\n",
      "-345.5946582244828 -1.4801452740595626\n",
      "-276.4757265795863 -1.2036695474799763\n",
      "-221.18058126366896 -0.9824889662163074\n",
      "-176.94446501093537 -0.805544501205372\n",
      "-141.5555720087483 -0.6639889291966237\n",
      "-113.24445760699848 -0.5507444715896251\n",
      "-90.59556608559868 -0.46014890550402643\n",
      "-72.47645286847911 -0.3876724526355473\n",
      "-57.981162294783275 -0.329691290340764\n",
      "-46.38492983582649 -0.2833063605049375\n",
      "-37.10794386866125 -0.24619841663627626\n",
      "-29.686355094928942 -0.2165120615413473\n",
      "-23.749084075943287 -0.19276297746540402\n",
      "-18.999267260754714 -0.1737637102046493\n",
      "-15.19941380860372 -0.15856429639604558\n",
      "-12.159531046882787 -0.1464047653491628\n",
      "-9.727624837506317 -0.1366771405116565\n",
      "-7.782099870005201 -0.1288950406416513\n",
      "-6.225679896004165 -0.12266936074564713\n",
      "-4.980543916803171 -0.11768881682884397\n",
      "-3.9844351334427373 -0.11370438169540123\n",
      "-3.187548106753958 -0.11051683358864728\n",
      "-2.550038485403249 -0.10796679510324403\n",
      "-2.0400307883226514 -0.10592676431492137\n",
      "-1.6320246306580461 -0.10429473968426332\n",
      "-1.3056197045265066 -0.10298911997973682\n",
      "-1.0444957636212209 -0.10194462421611561\n",
      "-0.8355966108970083 -0.1011090276052186\n",
      "-0.6684772887175399 -0.10044055031650106\n",
      "-0.5347818309741186 -0.09990576848552694\n",
      "-0.4278254647792181 -0.09947794302074772\n",
      "-0.34226037182325797 -0.09913568264892446\n",
      "-0.2738082974586433 -0.09886187435146582\n",
      "-0.21904663796710544 -0.0986428277134987\n",
      "-0.17523731037353762 -0.09846759040312517\n",
      "-0.1401898482988173 -0.09832740055482635\n",
      "-0.11215187863909648 -0.09821524867618725\n",
      "-0.08972150291124592 -0.09812552717327601\n",
      "-0.07177720232909657 -0.09805374997094692\n",
      "-0.057421761863180265 -0.09799632820908373\n",
      "-0.04593740949059999 -0.09795039079959313\n",
      "-0.03674992759254003 -0.09791364087200059\n",
      "-0.02939994207402208 -0.09788424092992658\n",
      "-0.02351995365920878 -0.09786072097626737\n",
      "-0.018815962927318353 -0.09784190501334006\n",
      "-0.01505277034168273 -0.09782685224299838\n",
      "-0.01204221627356894 -0.0978148100267248\n",
      "-0.009633773018840941 -0.09780517625370597\n",
      "-0.007707018414826905 -0.09779746923529115\n",
      "-0.006165614731921565 -0.09779130362055923\n",
      "-0.0049324917857305195 -0.09778637112877349\n",
      "-0.003945993428558836 -0.09778242513534494\n",
      "-0.0031567947429014254 -0.09777926834060204\n",
      "-0.002525435794197506 -0.09777674290480784\n",
      "-0.0020203486354901656 -0.09777472255617235\n",
      "-0.001616278908151969 -0.0977731062772642\n",
      "-0.0012930231265144698 -0.09777181325413768\n",
      "-0.0010344185014190543 -0.09777077883563626\n",
      "-0.0008275348010826633 -0.09776995130083517\n",
      "-0.0006620278407822866 -0.09776928927299439\n",
      "-0.0005296222725448274 -0.09776875965072185\n",
      "-0.0004236978180731654 -0.09776833595290378\n",
      "-0.00033895825463226004 -0.09776799699464915\n",
      "-0.0002711666034453941 -0.0977677258280457\n",
      "-0.0002169332829993209 -0.0977675088947627\n",
      "-0.00017354662621649197 -0.09776733534813647\n",
      "-0.00013883730117214554 -0.0977671965108353\n",
      "-0.00011106984069186865 -0.09776708544099462\n",
      "-8.885587261353578e-05 -0.097766996585122\n",
      "-7.108469814909313e-05 -0.09776692550042385\n",
      "-5.686775846136527e-05 -0.09776686863266539\n",
      "-4.5494206906582235e-05 -0.09776682313845848\n",
      "-3.639536526378606e-05 -0.09776678674309322\n",
      "-2.911629250768044e-05 -0.09776675762680072\n",
      "-2.329303389103643e-05 -0.09776673433376683\n",
      "-1.8634427206620785e-05 -0.09776671569933962\n",
      "-1.4907541626030252e-05 -0.09776670079179799\n",
      "-1.1926033366194133e-05 -0.09776668886576462\n",
      "-9.540826667375768e-06 -0.09776667932493795\n",
      "-7.632661393586204e-06 -0.09776667169227655\n",
      "-6.106129220029288e-06 -0.09776666558614734\n",
      "-0.09776666558614734\n"
     ]
    }
   ],
   "source": [
    "GD.fit(X ,y)"
   ]
  }
 ],
 "metadata": {
  "kernelspec": {
   "display_name": "Python [conda env:base] *",
   "language": "python",
   "name": "conda-base-py"
  },
  "language_info": {
   "codemirror_mode": {
    "name": "ipython",
    "version": 3
   },
   "file_extension": ".py",
   "mimetype": "text/x-python",
   "name": "python",
   "nbconvert_exporter": "python",
   "pygments_lexer": "ipython3",
   "version": "3.12.7"
  }
 },
 "nbformat": 4,
 "nbformat_minor": 5
}
