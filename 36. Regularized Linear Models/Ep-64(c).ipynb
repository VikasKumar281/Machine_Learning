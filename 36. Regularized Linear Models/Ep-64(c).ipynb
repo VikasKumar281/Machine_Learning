{
 "cells": [
  {
   "cell_type": "markdown",
   "id": "5e47f6ff-71da-4c76-a460-a251a9847d39",
   "metadata": {},
   "source": [
    "# Ridge Regularization using Gradient Descent (Part-3) =>"
   ]
  },
  {
   "cell_type": "code",
   "execution_count": 4,
   "id": "aa19ee95-1d4a-4cf8-b08f-48ed275edf84",
   "metadata": {},
   "outputs": [],
   "source": [
    "from sklearn.datasets import load_diabetes\n",
    "from sklearn.metrics import r2_score\n",
    "import numpy as np"
   ]
  },
  {
   "cell_type": "code",
   "execution_count": 6,
   "id": "5d25cd19-7c98-4b54-9deb-776db55830e2",
   "metadata": {},
   "outputs": [],
   "source": [
    "X , y = load_diabetes(return_X_y = True)"
   ]
  },
  {
   "cell_type": "code",
   "execution_count": 10,
   "id": "f68f719e-772e-4852-9307-6ff4de9d13f8",
   "metadata": {},
   "outputs": [],
   "source": [
    "from sklearn.model_selection import train_test_split"
   ]
  },
  {
   "cell_type": "code",
   "execution_count": 12,
   "id": "4010a311-9ff6-43ac-b9f1-7c61438ddd17",
   "metadata": {},
   "outputs": [],
   "source": [
    "X_train , X_test , y_train , y_test = train_test_split(X , y , test_size = 0.2 ,random_state = 4)"
   ]
  },
  {
   "cell_type": "code",
   "execution_count": 14,
   "id": "637933d2-affd-401c-9113-93a806fdcd43",
   "metadata": {},
   "outputs": [],
   "source": [
    "from sklearn.linear_model import SGDRegressor"
   ]
  },
  {
   "cell_type": "markdown",
   "id": "19bdb07e-fef3-4bc8-b4ca-44b4b57baf77",
   "metadata": {},
   "source": [
    "## penalty='l2' => This adds L2 regularization to the loss function.\n",
    "## eta0=0.1 This sets the initial learning rate to 0.1"
   ]
  },
  {
   "cell_type": "code",
   "execution_count": 20,
   "id": "d780777b-5588-406e-9915-41782577a7bf",
   "metadata": {},
   "outputs": [],
   "source": [
    "reg = SGDRegressor(penalty='l2' ,max_iter=500 , eta0 = 0.1 , learning_rate = 'constant' , alpha = 0.001)"
   ]
  },
  {
   "cell_type": "code",
   "execution_count": 25,
   "id": "b8af1038-152f-415d-b2c2-30d7cd548b34",
   "metadata": {},
   "outputs": [
    {
     "name": "stdout",
     "output_type": "stream",
     "text": [
      "R2 score:  0.4458974635553662\n",
      "[  49.40446537 -151.46913901  361.09948628  268.07811781   -3.42880444\n",
      "  -57.09181204 -166.51891699  136.6095738   327.18461662   98.08457832]\n",
      "[147.97021446]\n"
     ]
    }
   ],
   "source": [
    "reg.fit(X_train , y_train)\n",
    "y_pred = reg.predict(X_test)\n",
    "print(\"R2 score: \" , r2_score(y_test , y_pred))\n",
    "print(reg.coef_)\n",
    "print(reg.intercept_)"
   ]
  },
  {
   "cell_type": "code",
   "execution_count": null,
   "id": "2177b048-eacc-48c1-8ca3-3593610c947e",
   "metadata": {},
   "outputs": [],
   "source": []
  },
  {
   "cell_type": "code",
   "execution_count": null,
   "id": "3d58befd-3191-4b1a-b354-0fb23a9bd76c",
   "metadata": {},
   "outputs": [],
   "source": []
  },
  {
   "cell_type": "markdown",
   "id": "bfe82a44-04dc-4eaf-afa9-b87b587ca382",
   "metadata": {},
   "source": [
    "# Using Ridge =>"
   ]
  },
  {
   "cell_type": "code",
   "execution_count": 32,
   "id": "992941ee-edf1-4334-99bb-50d923fa5630",
   "metadata": {},
   "outputs": [],
   "source": [
    "from sklearn.linear_model import Ridge\n",
    "\n",
    "reg2 = Ridge(alpha = 0.001 , max_iter = 500 , solver='sparse_cg')"
   ]
  },
  {
   "cell_type": "markdown",
   "id": "24c233ab-ca83-46a7-8752-2fcb0e119564",
   "metadata": {},
   "source": [
    "## solver = 'sparse_cg'\t=> For large, sparse datasets"
   ]
  },
  {
   "cell_type": "code",
   "execution_count": 38,
   "id": "7740a2f6-4e60-4f70-ba47-3791f9580ebe",
   "metadata": {},
   "outputs": [
    {
     "name": "stdout",
     "output_type": "stream",
     "text": [
      "R2 score:  0.4625010162027918\n",
      "[  34.52192778 -290.84083871  482.40181675  368.06786931 -852.44872818\n",
      "  501.59160694  180.11115474  270.76334443  759.73534802   37.49135796]\n",
      "151.101985182554\n"
     ]
    }
   ],
   "source": [
    "reg2.fit(X_train , y_train)\n",
    "\n",
    "y_pred2 = reg2.predict(X_test)\n",
    "print(\"R2 score: \" , r2_score(y_test , y_pred2))\n",
    "print(reg2.coef_)\n",
    "print(reg2.intercept_)"
   ]
  },
  {
   "cell_type": "code",
   "execution_count": null,
   "id": "fbdf95e7-8aa1-4625-a3c2-1aa1b6369f38",
   "metadata": {},
   "outputs": [],
   "source": []
  },
  {
   "cell_type": "code",
   "execution_count": null,
   "id": "8bdf246b-e592-4445-9164-b81a94cc9c9c",
   "metadata": {},
   "outputs": [],
   "source": []
  },
  {
   "cell_type": "code",
   "execution_count": null,
   "id": "9327a25b-e36b-4dab-a195-1adfe0e9d9a7",
   "metadata": {},
   "outputs": [],
   "source": []
  },
  {
   "cell_type": "code",
   "execution_count": 40,
   "id": "de9588bf-2fcd-4097-afff-8acff8009f1c",
   "metadata": {},
   "outputs": [],
   "source": [
    "class MeraRidgeGD:\n",
    "    \n",
    "    def __init__(self,epochs,learning_rate,alpha):\n",
    "        \n",
    "        self.learning_rate = learning_rate\n",
    "        self.epochs = epochs\n",
    "        self.alpha = alpha\n",
    "        self.coef_ = None\n",
    "        self.intercept_ = None\n",
    "        \n",
    "    def fit(self,X_train,y_train):\n",
    "        \n",
    "        self.coef_ = np.ones(X_train.shape[1])\n",
    "        self.intercept_ = 0\n",
    "        thetha = np.insert(self.coef_,0,self.intercept_)\n",
    "        \n",
    "        X_train = np.insert(X_train,0,1,axis=1)\n",
    "        \n",
    "        for i in range(self.epochs):\n",
    "            thetha_der = np.dot(X_train.T,X_train).dot(thetha) - np.dot(X_train.T,y_train) + self.alpha*thetha\n",
    "            thetha = thetha - self.learning_rate*thetha_der\n",
    "        \n",
    "        self.coef_ = thetha[1:]\n",
    "        self.intercept_ = thetha[0]\n",
    "    \n",
    "    def predict(self,X_test):\n",
    "        \n",
    "        return np.dot(X_test,self.coef_) + self.intercept_"
   ]
  },
  {
   "cell_type": "code",
   "execution_count": 74,
   "id": "aaaa0883-8100-461f-bf46-d69a8b91bd7f",
   "metadata": {},
   "outputs": [],
   "source": [
    "reg3 = MeraRidgeGD(epochs = 500 , alpha = 0.001,learning_rate =0.005)"
   ]
  },
  {
   "cell_type": "code",
   "execution_count": 76,
   "id": "0484133b-8dc3-42f5-a485-30a929aa2bdb",
   "metadata": {},
   "outputs": [
    {
     "name": "stdout",
     "output_type": "stream",
     "text": [
      "R2 score:  0.4738018280260915\n",
      "[  46.65050914 -221.3750037   452.12080647  325.54248128  -29.09464178\n",
      "  -96.47517735 -190.90017011  146.32900372  400.80267299   95.09048094]\n",
      "150.8697531671347\n"
     ]
    }
   ],
   "source": [
    "reg3.fit(X_train ,y_train)\n",
    "\n",
    "y_pred3 = reg3.predict(X_test)\n",
    "print(\"R2 score: \" , r2_score(y_test , y_pred3))\n",
    "print(reg3.coef_)\n",
    "print(reg3.intercept_)"
   ]
  }
 ],
 "metadata": {
  "kernelspec": {
   "display_name": "Python [conda env:base] *",
   "language": "python",
   "name": "conda-base-py"
  },
  "language_info": {
   "codemirror_mode": {
    "name": "ipython",
    "version": 3
   },
   "file_extension": ".py",
   "mimetype": "text/x-python",
   "name": "python",
   "nbconvert_exporter": "python",
   "pygments_lexer": "ipython3",
   "version": "3.12.7"
  }
 },
 "nbformat": 4,
 "nbformat_minor": 5
}
