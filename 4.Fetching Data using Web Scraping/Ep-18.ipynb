{
 "cells": [
  {
   "cell_type": "markdown",
   "id": "8c9881a0-6a99-4bef-a7cc-8237fe7cd75c",
   "metadata": {},
   "source": [
    "# Web-Scraping Demo"
   ]
  },
  {
   "cell_type": "code",
   "execution_count": 3,
   "id": "11b36a0c-55f9-4e0e-9da1-57ef1826d609",
   "metadata": {},
   "outputs": [],
   "source": [
    "import pandas as pd\n",
    "import requests\n",
    "from bs4 import BeautifulSoup"
   ]
  },
  {
   "cell_type": "code",
   "execution_count": 11,
   "id": "3e17c22f-28b1-4db6-a309-3636d2b2363b",
   "metadata": {},
   "outputs": [],
   "source": [
    "headers = {\n",
    "    \"User-Agent\": \"Mozilla/5.0 (Windows NT 10.0; Win64; x64)\",\n",
    "}\n",
    "webpage = requests.get('https://www.ambitionbox.com/list-of-companies?campaign=desktop_nav',headers = headers).text"
   ]
  },
  {
   "cell_type": "code",
   "execution_count": 25,
   "id": "739e96c9-4b7a-486c-82e4-76375cb8330c",
   "metadata": {},
   "outputs": [],
   "source": [
    "soup = BeautifulSoup(webpage , 'lxml')"
   ]
  },
  {
   "cell_type": "code",
   "execution_count": 159,
   "id": "7734f203-aa0e-45ec-aec1-476a7dbe9fe5",
   "metadata": {},
   "outputs": [],
   "source": [
    "# print(soup.prettify())"
   ]
  },
  {
   "cell_type": "code",
   "execution_count": 41,
   "id": "e508be29-9c65-4cd2-b284-e056b83602d7",
   "metadata": {},
   "outputs": [
    {
     "data": {
      "text/plain": [
       "[<h1 class=\"companyListing__title\">\n",
       " \t\t\t\t\t\t\tCompanies in India\n",
       " \t\t\t\t\t\t</h1>]"
      ]
     },
     "execution_count": 41,
     "metadata": {},
     "output_type": "execute_result"
    }
   ],
   "source": [
    "soup.find_all('h1')\n",
    "# soup.find_all('h1')[0]"
   ]
  },
  {
   "cell_type": "code",
   "execution_count": 45,
   "id": "c0ea2f32-1ccd-4d9f-9c09-3b2f03503565",
   "metadata": {},
   "outputs": [
    {
     "data": {
      "text/plain": [
       "'\\n\\t\\t\\t\\t\\t\\t\\tCompanies in India\\n\\t\\t\\t\\t\\t\\t'"
      ]
     },
     "execution_count": 45,
     "metadata": {},
     "output_type": "execute_result"
    }
   ],
   "source": [
    "soup.find_all('h1')[0].text"
   ]
  },
  {
   "cell_type": "code",
   "execution_count": 47,
   "id": "36a2b25f-dcb1-43e1-8733-8ce0cb049812",
   "metadata": {},
   "outputs": [
    {
     "data": {
      "text/plain": [
       "[<h2 class=\"companyCardWrapper__companyName\" title=\"TCS\">\n",
       " \t\t\t\t\t\t\t\t\t\tTCS\n",
       " \t\t\t\t\t\t\t\t\t</h2>,\n",
       " <h2 class=\"companyCardWrapper__companyName\" title=\"Accenture\">\n",
       " \t\t\t\t\t\t\t\t\t\tAccenture\n",
       " \t\t\t\t\t\t\t\t\t</h2>,\n",
       " <h2 class=\"companyCardWrapper__companyName\" title=\"Wipro\">\n",
       " \t\t\t\t\t\t\t\t\t\tWipro\n",
       " \t\t\t\t\t\t\t\t\t</h2>,\n",
       " <h2 class=\"companyCardWrapper__companyName\" title=\"Cognizant\">\n",
       " \t\t\t\t\t\t\t\t\t\tCognizant\n",
       " \t\t\t\t\t\t\t\t\t</h2>,\n",
       " <h2 class=\"companyCardWrapper__companyName\" title=\"Capgemini\">\n",
       " \t\t\t\t\t\t\t\t\t\tCapgemini\n",
       " \t\t\t\t\t\t\t\t\t</h2>,\n",
       " <h2 class=\"companyCardWrapper__companyName\" title=\"HDFC Bank\">\n",
       " \t\t\t\t\t\t\t\t\t\tHDFC Bank\n",
       " \t\t\t\t\t\t\t\t\t</h2>,\n",
       " <h2 class=\"companyCardWrapper__companyName\" title=\"Infosys\">\n",
       " \t\t\t\t\t\t\t\t\t\tInfosys\n",
       " \t\t\t\t\t\t\t\t\t</h2>,\n",
       " <h2 class=\"companyCardWrapper__companyName\" title=\"ICICI Bank\">\n",
       " \t\t\t\t\t\t\t\t\t\tICICI Bank\n",
       " \t\t\t\t\t\t\t\t\t</h2>,\n",
       " <h2 class=\"companyCardWrapper__companyName\" title=\"HCLTech\">\n",
       " \t\t\t\t\t\t\t\t\t\tHCLTech\n",
       " \t\t\t\t\t\t\t\t\t</h2>,\n",
       " <h2 class=\"companyCardWrapper__companyName\" title=\"Tech Mahindra\">\n",
       " \t\t\t\t\t\t\t\t\t\tTech Mahindra\n",
       " \t\t\t\t\t\t\t\t\t</h2>,\n",
       " <h2 class=\"companyCardWrapper__companyName\" title=\"Genpact\">\n",
       " \t\t\t\t\t\t\t\t\t\tGenpact\n",
       " \t\t\t\t\t\t\t\t\t</h2>,\n",
       " <h2 class=\"companyCardWrapper__companyName\" title=\"Teleperformance\">\n",
       " \t\t\t\t\t\t\t\t\t\tTeleperformance\n",
       " \t\t\t\t\t\t\t\t\t</h2>,\n",
       " <h2 class=\"companyCardWrapper__companyName\" title=\"Concentrix Corporation\">\n",
       " \t\t\t\t\t\t\t\t\t\tConcentrix Corporation\n",
       " \t\t\t\t\t\t\t\t\t</h2>,\n",
       " <h2 class=\"companyCardWrapper__companyName\" title=\"Axis Bank\">\n",
       " \t\t\t\t\t\t\t\t\t\tAxis Bank\n",
       " \t\t\t\t\t\t\t\t\t</h2>,\n",
       " <h2 class=\"companyCardWrapper__companyName\" title=\"Amazon\">\n",
       " \t\t\t\t\t\t\t\t\t\tAmazon\n",
       " \t\t\t\t\t\t\t\t\t</h2>,\n",
       " <h2 class=\"companyCardWrapper__companyName\" title=\"Jio\">\n",
       " \t\t\t\t\t\t\t\t\t\tJio\n",
       " \t\t\t\t\t\t\t\t\t</h2>,\n",
       " <h2 class=\"companyCardWrapper__companyName\" title=\"iEnergizer\">\n",
       " \t\t\t\t\t\t\t\t\t\tiEnergizer\n",
       " \t\t\t\t\t\t\t\t\t</h2>,\n",
       " <h2 class=\"companyCardWrapper__companyName\" title=\"Reliance Retail\">\n",
       " \t\t\t\t\t\t\t\t\t\tReliance Retail\n",
       " \t\t\t\t\t\t\t\t\t</h2>,\n",
       " <h2 class=\"companyCardWrapper__companyName\" title=\"IBM\">\n",
       " \t\t\t\t\t\t\t\t\t\tIBM\n",
       " \t\t\t\t\t\t\t\t\t</h2>,\n",
       " <h2 class=\"companyCardWrapper__companyName\" title=\"LTIMindtree\">\n",
       " \t\t\t\t\t\t\t\t\t\tLTIMindtree\n",
       " \t\t\t\t\t\t\t\t\t</h2>,\n",
       " <h2 class=\"main-title body-medium\">\n",
       " \t\t\tCompanies by Industry\n",
       " \t\t</h2>,\n",
       " <h2 class=\"main-title body-medium\">\n",
       " \t\t\tCompanies by Locations\n",
       " \t\t</h2>,\n",
       " <h2 class=\"main-title body-medium\">\n",
       " \t\t\tCompanies by Type\n",
       " \t\t</h2>]"
      ]
     },
     "execution_count": 47,
     "metadata": {},
     "output_type": "execute_result"
    }
   ],
   "source": [
    "soup.find_all('h2')"
   ]
  },
  {
   "cell_type": "code",
   "execution_count": 51,
   "id": "0576e832-82a8-4475-8ff4-f18242689ff7",
   "metadata": {},
   "outputs": [
    {
     "data": {
      "text/plain": [
       "23"
      ]
     },
     "execution_count": 51,
     "metadata": {},
     "output_type": "execute_result"
    }
   ],
   "source": [
    "len(soup.find_all('h2'))"
   ]
  },
  {
   "cell_type": "code",
   "execution_count": 53,
   "id": "9b0a7dc3-4c25-4ad4-b282-0670df0568c0",
   "metadata": {},
   "outputs": [
    {
     "data": {
      "text/plain": [
       "<h2 class=\"companyCardWrapper__companyName\" title=\"TCS\">\n",
       "\t\t\t\t\t\t\t\t\t\tTCS\n",
       "\t\t\t\t\t\t\t\t\t</h2>"
      ]
     },
     "execution_count": 53,
     "metadata": {},
     "output_type": "execute_result"
    }
   ],
   "source": [
    "soup.find_all('h2')[0]"
   ]
  },
  {
   "cell_type": "code",
   "execution_count": 55,
   "id": "04ccf115-869e-47c5-bc93-48e483623523",
   "metadata": {},
   "outputs": [
    {
     "name": "stdout",
     "output_type": "stream",
     "text": [
      "\n",
      "\t\t\t\t\t\t\t\t\t\tTCS\n",
      "\t\t\t\t\t\t\t\t\t\n",
      "\n",
      "\t\t\t\t\t\t\t\t\t\tAccenture\n",
      "\t\t\t\t\t\t\t\t\t\n",
      "\n",
      "\t\t\t\t\t\t\t\t\t\tWipro\n",
      "\t\t\t\t\t\t\t\t\t\n",
      "\n",
      "\t\t\t\t\t\t\t\t\t\tCognizant\n",
      "\t\t\t\t\t\t\t\t\t\n",
      "\n",
      "\t\t\t\t\t\t\t\t\t\tCapgemini\n",
      "\t\t\t\t\t\t\t\t\t\n",
      "\n",
      "\t\t\t\t\t\t\t\t\t\tHDFC Bank\n",
      "\t\t\t\t\t\t\t\t\t\n",
      "\n",
      "\t\t\t\t\t\t\t\t\t\tInfosys\n",
      "\t\t\t\t\t\t\t\t\t\n",
      "\n",
      "\t\t\t\t\t\t\t\t\t\tICICI Bank\n",
      "\t\t\t\t\t\t\t\t\t\n",
      "\n",
      "\t\t\t\t\t\t\t\t\t\tHCLTech\n",
      "\t\t\t\t\t\t\t\t\t\n",
      "\n",
      "\t\t\t\t\t\t\t\t\t\tTech Mahindra\n",
      "\t\t\t\t\t\t\t\t\t\n",
      "\n",
      "\t\t\t\t\t\t\t\t\t\tGenpact\n",
      "\t\t\t\t\t\t\t\t\t\n",
      "\n",
      "\t\t\t\t\t\t\t\t\t\tTeleperformance\n",
      "\t\t\t\t\t\t\t\t\t\n",
      "\n",
      "\t\t\t\t\t\t\t\t\t\tConcentrix Corporation\n",
      "\t\t\t\t\t\t\t\t\t\n",
      "\n",
      "\t\t\t\t\t\t\t\t\t\tAxis Bank\n",
      "\t\t\t\t\t\t\t\t\t\n",
      "\n",
      "\t\t\t\t\t\t\t\t\t\tAmazon\n",
      "\t\t\t\t\t\t\t\t\t\n",
      "\n",
      "\t\t\t\t\t\t\t\t\t\tJio\n",
      "\t\t\t\t\t\t\t\t\t\n",
      "\n",
      "\t\t\t\t\t\t\t\t\t\tiEnergizer\n",
      "\t\t\t\t\t\t\t\t\t\n",
      "\n",
      "\t\t\t\t\t\t\t\t\t\tReliance Retail\n",
      "\t\t\t\t\t\t\t\t\t\n",
      "\n",
      "\t\t\t\t\t\t\t\t\t\tIBM\n",
      "\t\t\t\t\t\t\t\t\t\n",
      "\n",
      "\t\t\t\t\t\t\t\t\t\tLTIMindtree\n",
      "\t\t\t\t\t\t\t\t\t\n",
      "\n",
      "\t\t\tCompanies by Industry\n",
      "\t\t\n",
      "\n",
      "\t\t\tCompanies by Locations\n",
      "\t\t\n",
      "\n",
      "\t\t\tCompanies by Type\n",
      "\t\t\n"
     ]
    }
   ],
   "source": [
    "for i in soup.find_all('h2'):\n",
    "    print(i.text)"
   ]
  },
  {
   "cell_type": "code",
   "execution_count": 59,
   "id": "79ab7ca1-263a-4579-a780-feb444243da6",
   "metadata": {},
   "outputs": [
    {
     "name": "stdout",
     "output_type": "stream",
     "text": [
      "TCS\n",
      "Accenture\n",
      "Wipro\n",
      "Cognizant\n",
      "Capgemini\n",
      "HDFC Bank\n",
      "Infosys\n",
      "ICICI Bank\n",
      "HCLTech\n",
      "Tech Mahindra\n",
      "Genpact\n",
      "Teleperformance\n",
      "Concentrix Corporation\n",
      "Axis Bank\n",
      "Amazon\n",
      "Jio\n",
      "iEnergizer\n",
      "Reliance Retail\n",
      "IBM\n",
      "LTIMindtree\n",
      "Companies by Industry\n",
      "Companies by Locations\n",
      "Companies by Type\n"
     ]
    }
   ],
   "source": [
    "for i in soup.find_all('h2'):\n",
    "    print(i.text.strip())"
   ]
  },
  {
   "cell_type": "code",
   "execution_count": 61,
   "id": "a7ec4137-974b-4d2d-b9a2-3c227d251693",
   "metadata": {},
   "outputs": [
    {
     "data": {
      "text/plain": [
       "[<p class=\"popup-subtitle\">Faster and better experience!</p>,\n",
       " <p class=\"text\" style=\"color:#040a1e;\">\n",
       " \t\t\t\t\t\tAmbitionBox\n",
       " \t\t\t\t\t</p>,\n",
       " <p data-v-f59c163e=\"\">About Company</p>,\n",
       " <p class=\"subNavDescription\">\n",
       " \t\t\t\t\t\t\t\t\tDiscover best places to work\n",
       " \t\t\t\t\t\t\t\t</p>,\n",
       " <p class=\"subNavDescription\">\n",
       " \t\t\t\t\t\t\t\t\tCompare &amp; find best workplace\n",
       " \t\t\t\t\t\t\t\t</p>,\n",
       " <p class=\"subNavDescription\">\n",
       " \t\t\t\t\t\t\t\t\tBring your workplace to life\n",
       " \t\t\t\t\t\t\t\t</p>,\n",
       " <p class=\"subNavDescription\">\n",
       " \t\t\t\t\t\t\t\t\tHighlight your company's perks\n",
       " \t\t\t\t\t\t\t\t</p>,\n",
       " <p class=\"subNavDescription\">\n",
       " \t\t\t\t\t\t\t\t\tRead reviews for 6L+ companies\n",
       " \t\t\t\t\t\t\t\t</p>,\n",
       " <p class=\"subNavDescription\">\n",
       " \t\t\t\t\t\t\t\t\tRate your former or current company\n",
       " \t\t\t\t\t\t\t\t</p>,\n",
       " <p class=\"subNavDescription\">\n",
       " \t\t\t\t\t\t\t\t\tDiscover salaries for 6L+ companies\n",
       " \t\t\t\t\t\t\t\t</p>,\n",
       " <p class=\"subNavDescription\">\n",
       " \t\t\t\t\t\t\t\t\tCalculate your take home salary\n",
       " \t\t\t\t\t\t\t\t</p>,\n",
       " <p class=\"subNavDescription\">\n",
       " \t\t\t\t\t\t\t\t\tCheck your market value\n",
       " \t\t\t\t\t\t\t\t</p>,\n",
       " <p class=\"subNavDescription\">\n",
       " \t\t\t\t\t\t\t\t\tHelp other jobseekers\n",
       " \t\t\t\t\t\t\t\t</p>,\n",
       " <p class=\"subNavDescription\">\n",
       " \t\t\t\t\t\t\t\t\tCheck your gratuity amount\n",
       " \t\t\t\t\t\t\t\t</p>,\n",
       " <p class=\"subNavDescription\">\n",
       " \t\t\t\t\t\t\t\t\tCheck how much of your HRA is tax-free\n",
       " \t\t\t\t\t\t\t\t</p>,\n",
       " <p class=\"subNavDescription\">\n",
       " \t\t\t\t\t\t\t\t\tCheck your salary hike\n",
       " \t\t\t\t\t\t\t\t</p>,\n",
       " <p class=\"subNavDescription\">\n",
       " \t\t\t\t\t\t\t\t\tRead interviews for 40K+ companies\n",
       " \t\t\t\t\t\t\t\t</p>,\n",
       " <p class=\"subNavDescription\">\n",
       " \t\t\t\t\t\t\t\t\tContribute your interview questions\n",
       " \t\t\t\t\t\t\t\t</p>,\n",
       " <p class=\"subNavDescription subNavDescription--awards\">\n",
       " \t\t\t\t\t\t\t\t\tAmbitionBox Employee Choice Awards - 4th Edition\n",
       " \t\t\t\t\t\t\t\t</p>,\n",
       " <p class=\"subNavDescription subNavDescription--awards\">\n",
       " \t\t\t\t\t\t\t\t\tAmbitionBox Employee Choice Awards - 3rd Edition\n",
       " \t\t\t\t\t\t\t\t</p>,\n",
       " <p class=\"subNavDescription subNavDescription--awards\">\n",
       " \t\t\t\t\t\t\t\t\t2nd Edition\n",
       " \t\t\t\t\t\t\t\t</p>,\n",
       " <p class=\"subNavDescription subNavDescription--awards\">\n",
       " \t\t\t\t\t\t\t\t\t1st Edition\n",
       " \t\t\t\t\t\t\t\t</p>,\n",
       " <p class=\"companyListing__cardsCount\"><!-- --></p>,\n",
       " <p class=\"companyListing__sortBtnTitle companyListing__sortBtnTitle--value\">\n",
       " \t\t\t\t\t\t\t\tPopular\n",
       " \t\t\t\t\t\t\t</p>,\n",
       " <p data-v-e92c512e=\"\">\n",
       " \t\tAmbitionBox Award Winner'24\n",
       " \t</p>,\n",
       " <p data-v-e92c512e=\"\">\n",
       " \t\tAmbitionBox Award Winner'24\n",
       " \t</p>,\n",
       " <p data-v-e92c512e=\"\">\n",
       " \t\tAmbitionBox Award Winner'24\n",
       " \t</p>,\n",
       " <p data-v-e92c512e=\"\">\n",
       " \t\tAmbitionBox Award Winner'24\n",
       " \t</p>,\n",
       " <p data-v-e92c512e=\"\">\n",
       " \t\tAmbitionBox Award Winner'24\n",
       " \t</p>,\n",
       " <p data-v-e92c512e=\"\">\n",
       " \t\tAmbitionBox Award Winner'24\n",
       " \t</p>,\n",
       " <p data-v-e92c512e=\"\">\n",
       " \t\tAmbitionBox Award Winner'24\n",
       " \t</p>,\n",
       " <p data-v-e92c512e=\"\">\n",
       " \t\tAmbitionBox Award Winner'24\n",
       " \t</p>,\n",
       " <p data-v-e92c512e=\"\">\n",
       " \t\tAmbitionBox Award Winner'24\n",
       " \t</p>,\n",
       " <p data-v-e92c512e=\"\">\n",
       " \t\tAmbitionBox Award Winner'24\n",
       " \t</p>,\n",
       " <p data-v-e92c512e=\"\">\n",
       " \t\tAmbitionBox Award Winner'24\n",
       " \t</p>,\n",
       " <p class=\"compare-text\">\n",
       " \t\t\t\t\t\t\t\t\t\tSide-by-side comparison to make informed career\n",
       " \t\t\t\t\t\t\t\t\t\tdecisions\n",
       " \t\t\t\t\t\t\t\t\t</p>,\n",
       " <p class=\"title semibold caption\">\n",
       " \t\t\t\t\t\t\t\t\tHelping over\n",
       " \t\t\t\t\t\t\t\t\t1 Crore\n",
       " \t\t\t\t\t\t\t\t\tjob seekers every month in choosing their right fit company\n",
       " \t\t\t\t\t\t\t\t</p>,\n",
       " <p class=\"semibold body-small-important\">\n",
       " \t\t\t\t\t\t\t\t\t\t\t\tReviews\n",
       " \t\t\t\t\t\t\t\t\t\t\t</p>,\n",
       " <p class=\"semibold body-small-important\">\n",
       " \t\t\t\t\t\t\t\t\t\t\t\tSalaries\n",
       " \t\t\t\t\t\t\t\t\t\t\t</p>,\n",
       " <p class=\"semibold body-small-important\">\n",
       " \t\t\t\t\t\t\t\t\t\t\t\tInterviews\n",
       " \t\t\t\t\t\t\t\t\t\t\t</p>,\n",
       " <p class=\"semibold body-small-important\">\n",
       " \t\t\t\t\t\t\t\t\t\t\t\tUsers/Month\n",
       " \t\t\t\t\t\t\t\t\t\t\t</p>,\n",
       " <p data-v-f59c163e=\"\">About Company</p>,\n",
       " <p class=\"footerBottomText body-large\">\n",
       " \t\t\t\t\tMade with ❤️ in India. Trademarks belong to their respective owners. All\n",
       " \t\t\t\t\trights reserved © 2025 Info Edge (India) Ltd.\n",
       " \t\t\t\t</p>]"
      ]
     },
     "execution_count": 61,
     "metadata": {},
     "output_type": "execute_result"
    }
   ],
   "source": [
    "soup.find_all('p')"
   ]
  },
  {
   "cell_type": "code",
   "execution_count": 63,
   "id": "49a170c0-3871-4cfe-8017-86fe1f60c273",
   "metadata": {},
   "outputs": [
    {
     "name": "stdout",
     "output_type": "stream",
     "text": [
      "Faster and better experience!\n",
      "AmbitionBox\n",
      "About Company\n",
      "Discover best places to work\n",
      "Compare & find best workplace\n",
      "Bring your workplace to life\n",
      "Highlight your company's perks\n",
      "Read reviews for 6L+ companies\n",
      "Rate your former or current company\n",
      "Discover salaries for 6L+ companies\n",
      "Calculate your take home salary\n",
      "Check your market value\n",
      "Help other jobseekers\n",
      "Check your gratuity amount\n",
      "Check how much of your HRA is tax-free\n",
      "Check your salary hike\n",
      "Read interviews for 40K+ companies\n",
      "Contribute your interview questions\n",
      "AmbitionBox Employee Choice Awards - 4th Edition\n",
      "AmbitionBox Employee Choice Awards - 3rd Edition\n",
      "2nd Edition\n",
      "1st Edition\n",
      "\n",
      "Popular\n",
      "AmbitionBox Award Winner'24\n",
      "AmbitionBox Award Winner'24\n",
      "AmbitionBox Award Winner'24\n",
      "AmbitionBox Award Winner'24\n",
      "AmbitionBox Award Winner'24\n",
      "AmbitionBox Award Winner'24\n",
      "AmbitionBox Award Winner'24\n",
      "AmbitionBox Award Winner'24\n",
      "AmbitionBox Award Winner'24\n",
      "AmbitionBox Award Winner'24\n",
      "AmbitionBox Award Winner'24\n",
      "Side-by-side comparison to make informed career\n",
      "\t\t\t\t\t\t\t\t\t\tdecisions\n",
      "Helping over\n",
      "\t\t\t\t\t\t\t\t\t1 Crore\n",
      "\t\t\t\t\t\t\t\t\tjob seekers every month in choosing their right fit company\n",
      "Reviews\n",
      "Salaries\n",
      "Interviews\n",
      "Users/Month\n",
      "About Company\n",
      "Made with ❤️ in India. Trademarks belong to their respective owners. All\n",
      "\t\t\t\t\trights reserved © 2025 Info Edge (India) Ltd.\n"
     ]
    }
   ],
   "source": [
    "for i in soup.find_all('p'):\n",
    "    print(i.text.strip())"
   ]
  },
  {
   "cell_type": "code",
   "execution_count": 75,
   "id": "d07ed453-4520-4c5b-b9d1-5303bddd3b65",
   "metadata": {},
   "outputs": [
    {
     "data": {
      "text/plain": [
       "[<div class=\"rating_text rating_text--md\"><div style=\"height:auto;padding-bottom:1px;\">\n",
       " \t\t\t3.6<!-- --></div></div>,\n",
       " <div class=\"rating_text rating_text--md\"><div style=\"height:auto;padding-bottom:1px;\">\n",
       " \t\t\t3.8<!-- --></div></div>,\n",
       " <div class=\"rating_text rating_text--md\"><div style=\"height:auto;padding-bottom:1px;\">\n",
       " \t\t\t3.7<!-- --></div></div>,\n",
       " <div class=\"rating_text rating_text--md\"><div style=\"height:auto;padding-bottom:1px;\">\n",
       " \t\t\t3.7<!-- --></div></div>,\n",
       " <div class=\"rating_text rating_text--md\"><div style=\"height:auto;padding-bottom:1px;\">\n",
       " \t\t\t3.7<!-- --></div></div>,\n",
       " <div class=\"rating_text rating_text--md\"><div style=\"height:auto;padding-bottom:1px;\">\n",
       " \t\t\t3.9<!-- --></div></div>,\n",
       " <div class=\"rating_text rating_text--md\"><div style=\"height:auto;padding-bottom:1px;\">\n",
       " \t\t\t3.6<!-- --></div></div>,\n",
       " <div class=\"rating_text rating_text--md\"><div style=\"height:auto;padding-bottom:1px;\">\n",
       " \t\t\t4.0<!-- --></div></div>,\n",
       " <div class=\"rating_text rating_text--md\"><div style=\"height:auto;padding-bottom:1px;\">\n",
       " \t\t\t3.5<!-- --></div></div>,\n",
       " <div class=\"rating_text rating_text--md\"><div style=\"height:auto;padding-bottom:1px;\">\n",
       " \t\t\t3.5<!-- --></div></div>,\n",
       " <div class=\"rating_text rating_text--md\"><div style=\"height:auto;padding-bottom:1px;\">\n",
       " \t\t\t3.8<!-- --></div></div>,\n",
       " <div class=\"rating_text rating_text--md\"><div style=\"height:auto;padding-bottom:1px;\">\n",
       " \t\t\t3.9<!-- --></div></div>,\n",
       " <div class=\"rating_text rating_text--md\"><div style=\"height:auto;padding-bottom:1px;\">\n",
       " \t\t\t3.7<!-- --></div></div>,\n",
       " <div class=\"rating_text rating_text--md\"><div style=\"height:auto;padding-bottom:1px;\">\n",
       " \t\t\t3.7<!-- --></div></div>,\n",
       " <div class=\"rating_text rating_text--md\"><div style=\"height:auto;padding-bottom:1px;\">\n",
       " \t\t\t4.0<!-- --></div></div>,\n",
       " <div class=\"rating_text rating_text--md\"><div style=\"height:auto;padding-bottom:1px;\">\n",
       " \t\t\t4.0<!-- --></div></div>,\n",
       " <div class=\"rating_text rating_text--md\"><div style=\"height:auto;padding-bottom:1px;\">\n",
       " \t\t\t4.7<!-- --></div></div>,\n",
       " <div class=\"rating_text rating_text--md\"><div style=\"height:auto;padding-bottom:1px;\">\n",
       " \t\t\t3.9<!-- --></div></div>,\n",
       " <div class=\"rating_text rating_text--md\"><div style=\"height:auto;padding-bottom:1px;\">\n",
       " \t\t\t4.0<!-- --></div></div>,\n",
       " <div class=\"rating_text rating_text--md\"><div style=\"height:auto;padding-bottom:1px;\">\n",
       " \t\t\t3.7<!-- --></div></div>]"
      ]
     },
     "execution_count": 75,
     "metadata": {},
     "output_type": "execute_result"
    }
   ],
   "source": [
    "soup.find_all('div', class_='rating_text')"
   ]
  },
  {
   "cell_type": "code",
   "execution_count": 77,
   "id": "cb509df0-1ef2-4061-8e04-6fd69ae471ae",
   "metadata": {},
   "outputs": [
    {
     "data": {
      "text/plain": [
       "20"
      ]
     },
     "execution_count": 77,
     "metadata": {},
     "output_type": "execute_result"
    }
   ],
   "source": [
    "len(soup.find_all('div', class_='rating_text'))"
   ]
  },
  {
   "cell_type": "code",
   "execution_count": 81,
   "id": "dad46f11-1232-4fc6-b1fd-086a672a6f05",
   "metadata": {},
   "outputs": [
    {
     "data": {
      "text/plain": [
       "[<span class=\"companyCardWrapper__companyRatingCount\">\n",
       " \t\t\t\t\t\t\t\t\t\t\t(96.3k)\n",
       " \t\t\t\t\t\t\t\t\t\t</span>,\n",
       " <span class=\"companyCardWrapper__companyRatingCount\">\n",
       " \t\t\t\t\t\t\t\t\t\t\t(61.9k)\n",
       " \t\t\t\t\t\t\t\t\t\t</span>,\n",
       " <span class=\"companyCardWrapper__companyRatingCount\">\n",
       " \t\t\t\t\t\t\t\t\t\t\t(56.4k)\n",
       " \t\t\t\t\t\t\t\t\t\t</span>,\n",
       " <span class=\"companyCardWrapper__companyRatingCount\">\n",
       " \t\t\t\t\t\t\t\t\t\t\t(53.6k)\n",
       " \t\t\t\t\t\t\t\t\t\t</span>,\n",
       " <span class=\"companyCardWrapper__companyRatingCount\">\n",
       " \t\t\t\t\t\t\t\t\t\t\t(45.3k)\n",
       " \t\t\t\t\t\t\t\t\t\t</span>,\n",
       " <span class=\"companyCardWrapper__companyRatingCount\">\n",
       " \t\t\t\t\t\t\t\t\t\t\t(42.6k)\n",
       " \t\t\t\t\t\t\t\t\t\t</span>,\n",
       " <span class=\"companyCardWrapper__companyRatingCount\">\n",
       " \t\t\t\t\t\t\t\t\t\t\t(42.2k)\n",
       " \t\t\t\t\t\t\t\t\t\t</span>,\n",
       " <span class=\"companyCardWrapper__companyRatingCount\">\n",
       " \t\t\t\t\t\t\t\t\t\t\t(41.3k)\n",
       " \t\t\t\t\t\t\t\t\t\t</span>,\n",
       " <span class=\"companyCardWrapper__companyRatingCount\">\n",
       " \t\t\t\t\t\t\t\t\t\t\t(38.9k)\n",
       " \t\t\t\t\t\t\t\t\t\t</span>,\n",
       " <span class=\"companyCardWrapper__companyRatingCount\">\n",
       " \t\t\t\t\t\t\t\t\t\t\t(37.5k)\n",
       " \t\t\t\t\t\t\t\t\t\t</span>,\n",
       " <span class=\"companyCardWrapper__companyRatingCount\">\n",
       " \t\t\t\t\t\t\t\t\t\t\t(35k)\n",
       " \t\t\t\t\t\t\t\t\t\t</span>,\n",
       " <span class=\"companyCardWrapper__companyRatingCount\">\n",
       " \t\t\t\t\t\t\t\t\t\t\t(31.8k)\n",
       " \t\t\t\t\t\t\t\t\t\t</span>,\n",
       " <span class=\"companyCardWrapper__companyRatingCount\">\n",
       " \t\t\t\t\t\t\t\t\t\t\t(28.1k)\n",
       " \t\t\t\t\t\t\t\t\t\t</span>,\n",
       " <span class=\"companyCardWrapper__companyRatingCount\">\n",
       " \t\t\t\t\t\t\t\t\t\t\t(27.6k)\n",
       " \t\t\t\t\t\t\t\t\t\t</span>,\n",
       " <span class=\"companyCardWrapper__companyRatingCount\">\n",
       " \t\t\t\t\t\t\t\t\t\t\t(26.7k)\n",
       " \t\t\t\t\t\t\t\t\t\t</span>,\n",
       " <span class=\"companyCardWrapper__companyRatingCount\">\n",
       " \t\t\t\t\t\t\t\t\t\t\t(25.1k)\n",
       " \t\t\t\t\t\t\t\t\t\t</span>,\n",
       " <span class=\"companyCardWrapper__companyRatingCount\">\n",
       " \t\t\t\t\t\t\t\t\t\t\t(24.2k)\n",
       " \t\t\t\t\t\t\t\t\t\t</span>,\n",
       " <span class=\"companyCardWrapper__companyRatingCount\">\n",
       " \t\t\t\t\t\t\t\t\t\t\t(23.8k)\n",
       " \t\t\t\t\t\t\t\t\t\t</span>,\n",
       " <span class=\"companyCardWrapper__companyRatingCount\">\n",
       " \t\t\t\t\t\t\t\t\t\t\t(23.2k)\n",
       " \t\t\t\t\t\t\t\t\t\t</span>,\n",
       " <span class=\"companyCardWrapper__companyRatingCount\">\n",
       " \t\t\t\t\t\t\t\t\t\t\t(22.4k)\n",
       " \t\t\t\t\t\t\t\t\t\t</span>]"
      ]
     },
     "execution_count": 81,
     "metadata": {},
     "output_type": "execute_result"
    }
   ],
   "source": [
    "# REVIEWS------------------------------------------------------------------->\n",
    "\n",
    "soup.find_all('span', class_='companyCardWrapper__companyRatingCount')"
   ]
  },
  {
   "cell_type": "code",
   "execution_count": 137,
   "id": "8225a3fb-2250-4fbf-81e2-76f02b989000",
   "metadata": {},
   "outputs": [
    {
     "data": {
      "text/plain": [
       "20"
      ]
     },
     "execution_count": 137,
     "metadata": {},
     "output_type": "execute_result"
    }
   ],
   "source": [
    "len(soup.find_all('span', class_='companyCardWrapper__companyRatingCount'))"
   ]
  },
  {
   "cell_type": "code",
   "execution_count": 127,
   "id": "f4801520-38df-49a2-8108-a5896f69abbb",
   "metadata": {},
   "outputs": [],
   "source": [
    "# soup.find_all('span', class_='companyCardWrapper__ActionCount')"
   ]
  },
  {
   "cell_type": "code",
   "execution_count": 89,
   "id": "35824eec-39a6-4df5-bf4c-49a3de361bdf",
   "metadata": {},
   "outputs": [
    {
     "data": {
      "text/plain": [
       "120"
      ]
     },
     "execution_count": 89,
     "metadata": {},
     "output_type": "execute_result"
    }
   ],
   "source": [
    "len(soup.find_all('span', class_='companyCardWrapper__ActionCount'))"
   ]
  },
  {
   "cell_type": "code",
   "execution_count": 131,
   "id": "cb54c262-ff94-418e-94f8-a314757d616e",
   "metadata": {},
   "outputs": [],
   "source": [
    "# soup.find_all('div', class_='companyCardWrapper')"
   ]
  },
  {
   "cell_type": "code",
   "execution_count": 133,
   "id": "c190c1c2-178e-4f03-a59f-071705a535c8",
   "metadata": {},
   "outputs": [],
   "source": [
    "# soup.find_all('div', class_='companyCardWrapper')[0]"
   ]
  },
  {
   "cell_type": "code",
   "execution_count": 135,
   "id": "cf61c23b-d013-48c2-b664-b19c08047d77",
   "metadata": {},
   "outputs": [
    {
     "data": {
      "text/plain": [
       "15"
      ]
     },
     "execution_count": 135,
     "metadata": {},
     "output_type": "execute_result"
    }
   ],
   "source": [
    "len(soup.find_all('div', class_='companyCardWrapper')[0])"
   ]
  },
  {
   "cell_type": "code",
   "execution_count": 336,
   "id": "b5bc80c4-086c-488e-a03b-ff6d2505fd1d",
   "metadata": {},
   "outputs": [],
   "source": [
    "companies = soup.find_all('div', class_='companyCardWrapper')"
   ]
  },
  {
   "cell_type": "code",
   "execution_count": 101,
   "id": "91f39a51-35ca-4672-82a5-9c3de9bc545c",
   "metadata": {},
   "outputs": [
    {
     "data": {
      "text/plain": [
       "20"
      ]
     },
     "execution_count": 101,
     "metadata": {},
     "output_type": "execute_result"
    }
   ],
   "source": [
    "len(companies)"
   ]
  },
  {
   "cell_type": "code",
   "execution_count": 428,
   "id": "78c54e17-f583-4f80-8d32-a95da5f2de08",
   "metadata": {},
   "outputs": [
    {
     "name": "stdout",
     "output_type": "stream",
     "text": [
      "TCS\n",
      "Accenture\n",
      "Wipro\n",
      "Cognizant\n",
      "Capgemini\n",
      "HDFC Bank\n",
      "Infosys\n",
      "ICICI Bank\n",
      "HCLTech\n",
      "Tech Mahindra\n",
      "Genpact\n",
      "Teleperformance\n",
      "Concentrix Corporation\n",
      "Axis Bank\n",
      "Amazon\n",
      "Jio\n",
      "iEnergizer\n",
      "Reliance Retail\n",
      "IBM\n",
      "LTIMindtree\n"
     ]
    }
   ],
   "source": [
    "name = []\n",
    "rating = []\n",
    "reviews = []\n",
    "salaries = []\n",
    "interviews = []\n",
    "jobs = []\n",
    "\n",
    "for i in companies:\n",
    "    print(i.find('h2').text.strip())"
   ]
  },
  {
   "cell_type": "code",
   "execution_count": 430,
   "id": "9eadce42-0fba-4d37-b634-fd4c1afa4e94",
   "metadata": {},
   "outputs": [],
   "source": [
    "for i in companies:\n",
    "    \n",
    "    name.append(i.find('h2').text.strip())\n",
    "    rating.append(i.find_all('div',class_ = 'rating_text')[0].text.strip())\n",
    "    reviews.append(i.find('span',class_='companyCardWrapper__companyRatingCount').text.strip())\n",
    "    salaries.append(i.find_all('span',class_='companyCardWrapper__ActionCount')[1].text.strip())\n",
    "    interviews.append(i.find_all('span',class_='companyCardWrapper__ActionCount')[2].text.strip())\n",
    "    jobs.append(i.find_all('span',class_='companyCardWrapper__ActionCount')[3].text.strip())\n"
   ]
  },
  {
   "cell_type": "code",
   "execution_count": 326,
   "id": "90adc2da-1687-4117-8332-4a673ccc5e20",
   "metadata": {},
   "outputs": [
    {
     "data": {
      "text/plain": [
       "['TCS',\n",
       " 'Accenture',\n",
       " 'Wipro',\n",
       " 'Cognizant',\n",
       " 'Capgemini',\n",
       " 'HDFC Bank',\n",
       " 'Infosys',\n",
       " 'ICICI Bank',\n",
       " 'HCLTech',\n",
       " 'Tech Mahindra',\n",
       " 'Genpact',\n",
       " 'Teleperformance',\n",
       " 'Concentrix Corporation',\n",
       " 'Axis Bank',\n",
       " 'Amazon',\n",
       " 'Jio',\n",
       " 'iEnergizer',\n",
       " 'Reliance Retail',\n",
       " 'IBM',\n",
       " 'LTIMindtree']"
      ]
     },
     "execution_count": 326,
     "metadata": {},
     "output_type": "execute_result"
    }
   ],
   "source": [
    "name"
   ]
  },
  {
   "cell_type": "code",
   "execution_count": 328,
   "id": "b8bb8b41-438a-42e4-b895-8f5179156697",
   "metadata": {},
   "outputs": [
    {
     "data": {
      "text/plain": [
       "['3.6',\n",
       " '3.8',\n",
       " '3.7',\n",
       " '3.7',\n",
       " '3.7',\n",
       " '3.9',\n",
       " '3.6',\n",
       " '4.0',\n",
       " '3.5',\n",
       " '3.5',\n",
       " '3.8',\n",
       " '3.9',\n",
       " '3.7',\n",
       " '3.7',\n",
       " '4.0',\n",
       " '4.0',\n",
       " '4.7',\n",
       " '3.9',\n",
       " '4.0',\n",
       " '3.7']"
      ]
     },
     "execution_count": 328,
     "metadata": {},
     "output_type": "execute_result"
    }
   ],
   "source": [
    "rating"
   ]
  },
  {
   "cell_type": "code",
   "execution_count": 330,
   "id": "2a9c37a3-046d-42ef-8802-f5d1e48823a8",
   "metadata": {},
   "outputs": [
    {
     "data": {
      "text/plain": [
       "20"
      ]
     },
     "execution_count": 330,
     "metadata": {},
     "output_type": "execute_result"
    }
   ],
   "source": [
    "len(rating)"
   ]
  },
  {
   "cell_type": "code",
   "execution_count": 256,
   "id": "50e5590b-07af-47f4-ae22-12122edb50c1",
   "metadata": {},
   "outputs": [
    {
     "data": {
      "text/plain": [
       "['(96.3k)',\n",
       " '(61.9k)',\n",
       " '(56.4k)',\n",
       " '(53.6k)',\n",
       " '(45.3k)',\n",
       " '(42.6k)',\n",
       " '(42.2k)',\n",
       " '(41.3k)',\n",
       " '(38.9k)',\n",
       " '(37.5k)',\n",
       " '(35k)',\n",
       " '(31.8k)',\n",
       " '(28.1k)',\n",
       " '(27.6k)',\n",
       " '(26.7k)',\n",
       " '(25.1k)',\n",
       " '(24.2k)',\n",
       " '(23.8k)',\n",
       " '(23.2k)',\n",
       " '(22.4k)']"
      ]
     },
     "execution_count": 256,
     "metadata": {},
     "output_type": "execute_result"
    }
   ],
   "source": [
    "reviews"
   ]
  },
  {
   "cell_type": "code",
   "execution_count": 412,
   "id": "a6133e5f-3180-42e6-8cf6-198caab3fe52",
   "metadata": {},
   "outputs": [
    {
     "data": {
      "text/plain": [
       "['9.1L',\n",
       " '6L',\n",
       " '4.6L',\n",
       " '5.8L',\n",
       " '4.5L',\n",
       " '1.4L',\n",
       " '4.9L',\n",
       " '1.5L',\n",
       " '3.4L',\n",
       " '2.7L',\n",
       " '2.1L',\n",
       " '91.6k',\n",
       " '1.2L',\n",
       " '1L',\n",
       " '1.3L',\n",
       " '61.3k',\n",
       " '22.9k',\n",
       " '65.3k',\n",
       " '2L',\n",
       " '1.8L']"
      ]
     },
     "execution_count": 412,
     "metadata": {},
     "output_type": "execute_result"
    }
   ],
   "source": [
    "salaries"
   ]
  },
  {
   "cell_type": "code",
   "execution_count": 370,
   "id": "28d22455-55ff-468e-8c81-ea86fe59b4c9",
   "metadata": {},
   "outputs": [
    {
     "data": {
      "text/plain": [
       "'96.3k Reviews9.1L Salaries10.9k Interviews164 Jobs12k Benefits86 Photos'"
      ]
     },
     "execution_count": 370,
     "metadata": {},
     "output_type": "execute_result"
    }
   ],
   "source": [
    "companies[0].find('div',class_='companyCardWrapper__tertiaryInformation').text.strip()"
   ]
  },
  {
   "cell_type": "code",
   "execution_count": 402,
   "id": "826b00a1-3edf-4cf9-98e8-273b75351df5",
   "metadata": {},
   "outputs": [
    {
     "data": {
      "text/plain": [
       "'9.1L'"
      ]
     },
     "execution_count": 402,
     "metadata": {},
     "output_type": "execute_result"
    }
   ],
   "source": [
    "companies[0].find_all('span',class_='companyCardWrapper__ActionCount')[1].text.strip()"
   ]
  },
  {
   "cell_type": "code",
   "execution_count": 434,
   "id": "f6bae32e-e3b2-478d-896a-0334ef0146d8",
   "metadata": {},
   "outputs": [
    {
     "data": {
      "text/plain": [
       "['164',\n",
       " '9.6k',\n",
       " '6.6k',\n",
       " '425',\n",
       " '1.6k',\n",
       " '172',\n",
       " '1.5k',\n",
       " '--',\n",
       " '357',\n",
       " '421',\n",
       " '673',\n",
       " '328',\n",
       " '143',\n",
       " '234',\n",
       " '2.6k',\n",
       " '54',\n",
       " '342',\n",
       " '110',\n",
       " '1.6k',\n",
       " '503']"
      ]
     },
     "execution_count": 434,
     "metadata": {},
     "output_type": "execute_result"
    }
   ],
   "source": [
    "jobs"
   ]
  },
  {
   "cell_type": "code",
   "execution_count": 432,
   "id": "d9d12d1a-1b7d-4450-8e3b-496f831b1c52",
   "metadata": {},
   "outputs": [
    {
     "data": {
      "text/plain": [
       "['10.9k',\n",
       " '8.5k',\n",
       " '5.9k',\n",
       " '5.8k',\n",
       " '5k',\n",
       " '2.4k',\n",
       " '7.8k',\n",
       " '2.5k',\n",
       " '4k',\n",
       " '4k',\n",
       " '3.3k',\n",
       " '1.9k',\n",
       " '1.7k',\n",
       " '1.6k',\n",
       " '5.2k',\n",
       " '2.1k',\n",
       " '718',\n",
       " '1.6k',\n",
       " '2.4k',\n",
       " '3k']"
      ]
     },
     "execution_count": 432,
     "metadata": {},
     "output_type": "execute_result"
    }
   ],
   "source": [
    "interviews"
   ]
  },
  {
   "cell_type": "code",
   "execution_count": 436,
   "id": "40bee202-7232-4b7d-b7be-87f081183979",
   "metadata": {},
   "outputs": [],
   "source": [
    "d = {'name':name , 'rating':rating , 'reviews':reviews , 'salaries':salaries , 'interviews':interviews , 'jobs':jobs}"
   ]
  },
  {
   "cell_type": "code",
   "execution_count": 440,
   "id": "9838102a-a870-452b-a9dc-9eca582b753d",
   "metadata": {},
   "outputs": [],
   "source": [
    "company = pd.DataFrame(d)"
   ]
  },
  {
   "cell_type": "code",
   "execution_count": 442,
   "id": "9821f4d2-a7ce-41ec-bd99-278bf47322dd",
   "metadata": {},
   "outputs": [
    {
     "data": {
      "text/html": [
       "<div>\n",
       "<style scoped>\n",
       "    .dataframe tbody tr th:only-of-type {\n",
       "        vertical-align: middle;\n",
       "    }\n",
       "\n",
       "    .dataframe tbody tr th {\n",
       "        vertical-align: top;\n",
       "    }\n",
       "\n",
       "    .dataframe thead th {\n",
       "        text-align: right;\n",
       "    }\n",
       "</style>\n",
       "<table border=\"1\" class=\"dataframe\">\n",
       "  <thead>\n",
       "    <tr style=\"text-align: right;\">\n",
       "      <th></th>\n",
       "      <th>name</th>\n",
       "      <th>rating</th>\n",
       "      <th>reviews</th>\n",
       "      <th>salaries</th>\n",
       "      <th>interviews</th>\n",
       "      <th>jobs</th>\n",
       "    </tr>\n",
       "  </thead>\n",
       "  <tbody>\n",
       "    <tr>\n",
       "      <th>0</th>\n",
       "      <td>TCS</td>\n",
       "      <td>3.6</td>\n",
       "      <td>(96.3k)</td>\n",
       "      <td>9.1L</td>\n",
       "      <td>10.9k</td>\n",
       "      <td>164</td>\n",
       "    </tr>\n",
       "    <tr>\n",
       "      <th>1</th>\n",
       "      <td>Accenture</td>\n",
       "      <td>3.8</td>\n",
       "      <td>(61.9k)</td>\n",
       "      <td>6L</td>\n",
       "      <td>8.5k</td>\n",
       "      <td>9.6k</td>\n",
       "    </tr>\n",
       "    <tr>\n",
       "      <th>2</th>\n",
       "      <td>Wipro</td>\n",
       "      <td>3.7</td>\n",
       "      <td>(56.4k)</td>\n",
       "      <td>4.6L</td>\n",
       "      <td>5.9k</td>\n",
       "      <td>6.6k</td>\n",
       "    </tr>\n",
       "    <tr>\n",
       "      <th>3</th>\n",
       "      <td>Cognizant</td>\n",
       "      <td>3.7</td>\n",
       "      <td>(53.6k)</td>\n",
       "      <td>5.8L</td>\n",
       "      <td>5.8k</td>\n",
       "      <td>425</td>\n",
       "    </tr>\n",
       "    <tr>\n",
       "      <th>4</th>\n",
       "      <td>Capgemini</td>\n",
       "      <td>3.7</td>\n",
       "      <td>(45.3k)</td>\n",
       "      <td>4.5L</td>\n",
       "      <td>5k</td>\n",
       "      <td>1.6k</td>\n",
       "    </tr>\n",
       "    <tr>\n",
       "      <th>5</th>\n",
       "      <td>HDFC Bank</td>\n",
       "      <td>3.9</td>\n",
       "      <td>(42.6k)</td>\n",
       "      <td>1.4L</td>\n",
       "      <td>2.4k</td>\n",
       "      <td>172</td>\n",
       "    </tr>\n",
       "    <tr>\n",
       "      <th>6</th>\n",
       "      <td>Infosys</td>\n",
       "      <td>3.6</td>\n",
       "      <td>(42.2k)</td>\n",
       "      <td>4.9L</td>\n",
       "      <td>7.8k</td>\n",
       "      <td>1.5k</td>\n",
       "    </tr>\n",
       "    <tr>\n",
       "      <th>7</th>\n",
       "      <td>ICICI Bank</td>\n",
       "      <td>4.0</td>\n",
       "      <td>(41.3k)</td>\n",
       "      <td>1.5L</td>\n",
       "      <td>2.5k</td>\n",
       "      <td>--</td>\n",
       "    </tr>\n",
       "    <tr>\n",
       "      <th>8</th>\n",
       "      <td>HCLTech</td>\n",
       "      <td>3.5</td>\n",
       "      <td>(38.9k)</td>\n",
       "      <td>3.4L</td>\n",
       "      <td>4k</td>\n",
       "      <td>357</td>\n",
       "    </tr>\n",
       "    <tr>\n",
       "      <th>9</th>\n",
       "      <td>Tech Mahindra</td>\n",
       "      <td>3.5</td>\n",
       "      <td>(37.5k)</td>\n",
       "      <td>2.7L</td>\n",
       "      <td>4k</td>\n",
       "      <td>421</td>\n",
       "    </tr>\n",
       "    <tr>\n",
       "      <th>10</th>\n",
       "      <td>Genpact</td>\n",
       "      <td>3.8</td>\n",
       "      <td>(35k)</td>\n",
       "      <td>2.1L</td>\n",
       "      <td>3.3k</td>\n",
       "      <td>673</td>\n",
       "    </tr>\n",
       "    <tr>\n",
       "      <th>11</th>\n",
       "      <td>Teleperformance</td>\n",
       "      <td>3.9</td>\n",
       "      <td>(31.8k)</td>\n",
       "      <td>91.6k</td>\n",
       "      <td>1.9k</td>\n",
       "      <td>328</td>\n",
       "    </tr>\n",
       "    <tr>\n",
       "      <th>12</th>\n",
       "      <td>Concentrix Corporation</td>\n",
       "      <td>3.7</td>\n",
       "      <td>(28.1k)</td>\n",
       "      <td>1.2L</td>\n",
       "      <td>1.7k</td>\n",
       "      <td>143</td>\n",
       "    </tr>\n",
       "    <tr>\n",
       "      <th>13</th>\n",
       "      <td>Axis Bank</td>\n",
       "      <td>3.7</td>\n",
       "      <td>(27.6k)</td>\n",
       "      <td>1L</td>\n",
       "      <td>1.6k</td>\n",
       "      <td>234</td>\n",
       "    </tr>\n",
       "    <tr>\n",
       "      <th>14</th>\n",
       "      <td>Amazon</td>\n",
       "      <td>4.0</td>\n",
       "      <td>(26.7k)</td>\n",
       "      <td>1.3L</td>\n",
       "      <td>5.2k</td>\n",
       "      <td>2.6k</td>\n",
       "    </tr>\n",
       "    <tr>\n",
       "      <th>15</th>\n",
       "      <td>Jio</td>\n",
       "      <td>4.0</td>\n",
       "      <td>(25.1k)</td>\n",
       "      <td>61.3k</td>\n",
       "      <td>2.1k</td>\n",
       "      <td>54</td>\n",
       "    </tr>\n",
       "    <tr>\n",
       "      <th>16</th>\n",
       "      <td>iEnergizer</td>\n",
       "      <td>4.7</td>\n",
       "      <td>(24.2k)</td>\n",
       "      <td>22.9k</td>\n",
       "      <td>718</td>\n",
       "      <td>342</td>\n",
       "    </tr>\n",
       "    <tr>\n",
       "      <th>17</th>\n",
       "      <td>Reliance Retail</td>\n",
       "      <td>3.9</td>\n",
       "      <td>(23.8k)</td>\n",
       "      <td>65.3k</td>\n",
       "      <td>1.6k</td>\n",
       "      <td>110</td>\n",
       "    </tr>\n",
       "    <tr>\n",
       "      <th>18</th>\n",
       "      <td>IBM</td>\n",
       "      <td>4.0</td>\n",
       "      <td>(23.2k)</td>\n",
       "      <td>2L</td>\n",
       "      <td>2.4k</td>\n",
       "      <td>1.6k</td>\n",
       "    </tr>\n",
       "    <tr>\n",
       "      <th>19</th>\n",
       "      <td>LTIMindtree</td>\n",
       "      <td>3.7</td>\n",
       "      <td>(22.4k)</td>\n",
       "      <td>1.8L</td>\n",
       "      <td>3k</td>\n",
       "      <td>503</td>\n",
       "    </tr>\n",
       "  </tbody>\n",
       "</table>\n",
       "</div>"
      ],
      "text/plain": [
       "                      name rating  reviews salaries interviews  jobs\n",
       "0                      TCS    3.6  (96.3k)     9.1L      10.9k   164\n",
       "1                Accenture    3.8  (61.9k)       6L       8.5k  9.6k\n",
       "2                    Wipro    3.7  (56.4k)     4.6L       5.9k  6.6k\n",
       "3                Cognizant    3.7  (53.6k)     5.8L       5.8k   425\n",
       "4                Capgemini    3.7  (45.3k)     4.5L         5k  1.6k\n",
       "5                HDFC Bank    3.9  (42.6k)     1.4L       2.4k   172\n",
       "6                  Infosys    3.6  (42.2k)     4.9L       7.8k  1.5k\n",
       "7               ICICI Bank    4.0  (41.3k)     1.5L       2.5k    --\n",
       "8                  HCLTech    3.5  (38.9k)     3.4L         4k   357\n",
       "9            Tech Mahindra    3.5  (37.5k)     2.7L         4k   421\n",
       "10                 Genpact    3.8    (35k)     2.1L       3.3k   673\n",
       "11         Teleperformance    3.9  (31.8k)    91.6k       1.9k   328\n",
       "12  Concentrix Corporation    3.7  (28.1k)     1.2L       1.7k   143\n",
       "13               Axis Bank    3.7  (27.6k)       1L       1.6k   234\n",
       "14                  Amazon    4.0  (26.7k)     1.3L       5.2k  2.6k\n",
       "15                     Jio    4.0  (25.1k)    61.3k       2.1k    54\n",
       "16              iEnergizer    4.7  (24.2k)    22.9k        718   342\n",
       "17         Reliance Retail    3.9  (23.8k)    65.3k       1.6k   110\n",
       "18                     IBM    4.0  (23.2k)       2L       2.4k  1.6k\n",
       "19             LTIMindtree    3.7  (22.4k)     1.8L         3k   503"
      ]
     },
     "execution_count": 442,
     "metadata": {},
     "output_type": "execute_result"
    }
   ],
   "source": [
    "company"
   ]
  },
  {
   "cell_type": "code",
   "execution_count": 444,
   "id": "851e428f-6ef7-4818-a7d2-f3a347dbe536",
   "metadata": {},
   "outputs": [],
   "source": [
    "company.to_csv('companies.csv')"
   ]
  }
 ],
 "metadata": {
  "kernelspec": {
   "display_name": "Python [conda env:base] *",
   "language": "python",
   "name": "conda-base-py"
  },
  "language_info": {
   "codemirror_mode": {
    "name": "ipython",
    "version": 3
   },
   "file_extension": ".py",
   "mimetype": "text/x-python",
   "name": "python",
   "nbconvert_exporter": "python",
   "pygments_lexer": "ipython3",
   "version": "3.12.7"
  }
 },
 "nbformat": 4,
 "nbformat_minor": 5
}
