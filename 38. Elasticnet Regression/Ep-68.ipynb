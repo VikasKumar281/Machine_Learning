{
 "cells": [
  {
   "cell_type": "markdown",
   "id": "703eda60-fbdd-4b69-8158-c0ac4cb06839",
   "metadata": {},
   "source": [
    "# ElasticNet Regression =>"
   ]
  },
  {
   "cell_type": "code",
   "execution_count": 1,
   "id": "bf5c2750-fa4c-4637-885b-80e8f125b01d",
   "metadata": {},
   "outputs": [],
   "source": [
    "from sklearn.datasets import load_diabetes\n",
    "from sklearn.linear_model import LinearRegression , Ridge , Lasso , ElasticNet\n",
    "from sklearn.model_selection import train_test_split\n",
    "from sklearn.metrics import r2_score"
   ]
  },
  {
   "cell_type": "code",
   "execution_count": 5,
   "id": "3e99a3aa-8542-4791-af97-eec7032588eb",
   "metadata": {},
   "outputs": [],
   "source": [
    "X , y = load_diabetes(return_X_y = True)"
   ]
  },
  {
   "cell_type": "code",
   "execution_count": 7,
   "id": "3b448861-6f6b-44aa-a951-43fbd07ba122",
   "metadata": {},
   "outputs": [],
   "source": [
    "X_train , X_test , y_train , y_test = train_test_split(X , y , test_size = 0.2 , random_state = 42)"
   ]
  },
  {
   "cell_type": "markdown",
   "id": "3f760fa4-4843-4714-bfe4-fe3c7abf47bd",
   "metadata": {},
   "source": [
    "## Linear Regression =>"
   ]
  },
  {
   "cell_type": "code",
   "execution_count": 9,
   "id": "b312e2c6-cfb4-4c48-a6ae-cac159d6b70b",
   "metadata": {},
   "outputs": [
    {
     "data": {
      "text/plain": [
       "0.4526027629719195"
      ]
     },
     "execution_count": 9,
     "metadata": {},
     "output_type": "execute_result"
    }
   ],
   "source": [
    "reg = LinearRegression()\n",
    "reg.fit(X_train , y_train)\n",
    "y_pred = reg.predict(X_test)\n",
    "\n",
    "r2_score(y_test , y_pred)"
   ]
  },
  {
   "cell_type": "markdown",
   "id": "d8bbe923-bc00-483f-a55f-6420be6612b3",
   "metadata": {},
   "source": [
    "## Ridge Regression =>"
   ]
  },
  {
   "cell_type": "code",
   "execution_count": 11,
   "id": "7d7aaee1-6e62-4042-9c03-6f2bf07da302",
   "metadata": {},
   "outputs": [
    {
     "data": {
      "text/plain": [
       "0.46085219464119254"
      ]
     },
     "execution_count": 11,
     "metadata": {},
     "output_type": "execute_result"
    }
   ],
   "source": [
    "reg = Ridge(alpha = 0.1)\n",
    "reg.fit(X_train , y_train)\n",
    "y_pred = reg.predict(X_test)\n",
    "\n",
    "r2_score(y_test , y_pred)"
   ]
  },
  {
   "cell_type": "markdown",
   "id": "ac1b5ee8-fe58-4d06-bc5c-12bc88d4c68b",
   "metadata": {},
   "source": [
    "## Lasso Regression =>"
   ]
  },
  {
   "cell_type": "code",
   "execution_count": 13,
   "id": "3e00f227-343b-4145-859f-fd036f7f438a",
   "metadata": {},
   "outputs": [
    {
     "data": {
      "text/plain": [
       "0.4718547867276227"
      ]
     },
     "execution_count": 13,
     "metadata": {},
     "output_type": "execute_result"
    }
   ],
   "source": [
    "reg = Lasso(alpha = 0.1)\n",
    "reg.fit(X_train , y_train)\n",
    "y_pred = reg.predict(X_test)\n",
    "\n",
    "r2_score(y_test , y_pred)"
   ]
  },
  {
   "cell_type": "markdown",
   "id": "84ce1066-0a97-4566-aa5e-4136eff26c52",
   "metadata": {},
   "source": [
    "## ElasticNet Regresion =>"
   ]
  },
  {
   "cell_type": "code",
   "execution_count": 15,
   "id": "26fe2063-3ef5-48e9-b207-1210f0ed136e",
   "metadata": {},
   "outputs": [
    {
     "data": {
      "text/plain": [
       "0.46192536271651097"
      ]
     },
     "execution_count": 15,
     "metadata": {},
     "output_type": "execute_result"
    }
   ],
   "source": [
    "reg = ElasticNet(alpha = 0.005 , l1_ratio = 0.9)\n",
    "reg.fit(X_train , y_train)\n",
    "y_pred = reg.predict(X_test)\n",
    "\n",
    "r2_score(y_test , y_pred)"
   ]
  },
  {
   "cell_type": "code",
   "execution_count": null,
   "id": "9920bc4d-2694-4462-9bd3-223f37fa8ce3",
   "metadata": {},
   "outputs": [],
   "source": []
  },
  {
   "cell_type": "code",
   "execution_count": null,
   "id": "98fe336d-5aef-44db-80b3-0e7bc15f3da4",
   "metadata": {},
   "outputs": [],
   "source": []
  },
  {
   "cell_type": "code",
   "execution_count": 17,
   "id": "3b0441a1-8a09-449a-ad07-6fdc78686a00",
   "metadata": {},
   "outputs": [],
   "source": [
    "from sklearn.datasets import load_iris\n",
    "import pandas as pd"
   ]
  },
  {
   "cell_type": "code",
   "execution_count": 19,
   "id": "f19a3e70-0665-4579-9354-27b92524adff",
   "metadata": {},
   "outputs": [],
   "source": [
    "iris = load_iris()"
   ]
  },
  {
   "cell_type": "code",
   "execution_count": 21,
   "id": "6827148f-d516-47b4-812a-81b107ffa58b",
   "metadata": {},
   "outputs": [],
   "source": [
    "df = pd.DataFrame(data = iris.data , columns = iris.feature_names)\n",
    "\n",
    "df['target'] = iris.target"
   ]
  },
  {
   "cell_type": "code",
   "execution_count": 23,
   "id": "deeb86dd-3a46-4d98-849c-cd4c090dbefc",
   "metadata": {},
   "outputs": [
    {
     "data": {
      "text/html": [
       "<div>\n",
       "<style scoped>\n",
       "    .dataframe tbody tr th:only-of-type {\n",
       "        vertical-align: middle;\n",
       "    }\n",
       "\n",
       "    .dataframe tbody tr th {\n",
       "        vertical-align: top;\n",
       "    }\n",
       "\n",
       "    .dataframe thead th {\n",
       "        text-align: right;\n",
       "    }\n",
       "</style>\n",
       "<table border=\"1\" class=\"dataframe\">\n",
       "  <thead>\n",
       "    <tr style=\"text-align: right;\">\n",
       "      <th></th>\n",
       "      <th>sepal length (cm)</th>\n",
       "      <th>sepal width (cm)</th>\n",
       "      <th>petal length (cm)</th>\n",
       "      <th>petal width (cm)</th>\n",
       "      <th>target</th>\n",
       "    </tr>\n",
       "  </thead>\n",
       "  <tbody>\n",
       "    <tr>\n",
       "      <th>0</th>\n",
       "      <td>5.1</td>\n",
       "      <td>3.5</td>\n",
       "      <td>1.4</td>\n",
       "      <td>0.2</td>\n",
       "      <td>0</td>\n",
       "    </tr>\n",
       "    <tr>\n",
       "      <th>1</th>\n",
       "      <td>4.9</td>\n",
       "      <td>3.0</td>\n",
       "      <td>1.4</td>\n",
       "      <td>0.2</td>\n",
       "      <td>0</td>\n",
       "    </tr>\n",
       "    <tr>\n",
       "      <th>2</th>\n",
       "      <td>4.7</td>\n",
       "      <td>3.2</td>\n",
       "      <td>1.3</td>\n",
       "      <td>0.2</td>\n",
       "      <td>0</td>\n",
       "    </tr>\n",
       "    <tr>\n",
       "      <th>3</th>\n",
       "      <td>4.6</td>\n",
       "      <td>3.1</td>\n",
       "      <td>1.5</td>\n",
       "      <td>0.2</td>\n",
       "      <td>0</td>\n",
       "    </tr>\n",
       "    <tr>\n",
       "      <th>4</th>\n",
       "      <td>5.0</td>\n",
       "      <td>3.6</td>\n",
       "      <td>1.4</td>\n",
       "      <td>0.2</td>\n",
       "      <td>0</td>\n",
       "    </tr>\n",
       "  </tbody>\n",
       "</table>\n",
       "</div>"
      ],
      "text/plain": [
       "   sepal length (cm)  sepal width (cm)  petal length (cm)  petal width (cm)  \\\n",
       "0                5.1               3.5                1.4               0.2   \n",
       "1                4.9               3.0                1.4               0.2   \n",
       "2                4.7               3.2                1.3               0.2   \n",
       "3                4.6               3.1                1.5               0.2   \n",
       "4                5.0               3.6                1.4               0.2   \n",
       "\n",
       "   target  \n",
       "0       0  \n",
       "1       0  \n",
       "2       0  \n",
       "3       0  \n",
       "4       0  "
      ]
     },
     "execution_count": 23,
     "metadata": {},
     "output_type": "execute_result"
    }
   ],
   "source": [
    "df.head()"
   ]
  },
  {
   "cell_type": "code",
   "execution_count": 27,
   "id": "f2a9b72e-eb60-4b60-a552-5b2debc090df",
   "metadata": {},
   "outputs": [
    {
     "data": {
      "text/plain": [
       "0.4526027629719195"
      ]
     },
     "execution_count": 27,
     "metadata": {},
     "output_type": "execute_result"
    }
   ],
   "source": [
    "reg = LinearRegression()\n",
    "reg.fit(X_train , y_train)\n",
    "y_pred = reg.predict(X_test)\n",
    "\n",
    "r2_score(y_test , y_pred)"
   ]
  },
  {
   "cell_type": "code",
   "execution_count": null,
   "id": "709b9e47-281d-47cf-bd73-2a2cb4a48d50",
   "metadata": {},
   "outputs": [],
   "source": []
  },
  {
   "cell_type": "code",
   "execution_count": 37,
   "id": "676ce1fe-b81b-4003-93ee-61ccb5bd0ea2",
   "metadata": {},
   "outputs": [
    {
     "data": {
      "text/plain": [
       "0.46085219464119254"
      ]
     },
     "execution_count": 37,
     "metadata": {},
     "output_type": "execute_result"
    }
   ],
   "source": [
    "reg = Ridge(alpha = 0.1)\n",
    "reg.fit(X_train , y_train)\n",
    "y_pred = reg.predict(X_test)\n",
    "\n",
    "r2_score(y_test , y_pred)"
   ]
  },
  {
   "cell_type": "code",
   "execution_count": null,
   "id": "3ccea4dd-88d1-4b87-b55d-08c1e8e4f684",
   "metadata": {},
   "outputs": [],
   "source": []
  },
  {
   "cell_type": "code",
   "execution_count": 43,
   "id": "fd5b71a0-67a3-4868-a8d9-5a032f549c76",
   "metadata": {},
   "outputs": [
    {
     "data": {
      "text/plain": [
       "0.4718547867276227"
      ]
     },
     "execution_count": 43,
     "metadata": {},
     "output_type": "execute_result"
    }
   ],
   "source": [
    "reg = Lasso(alpha = 0.1)\n",
    "reg.fit(X_train , y_train)\n",
    "y_pred = reg.predict(X_test)\n",
    "\n",
    "r2_score(y_test , y_pred)"
   ]
  },
  {
   "cell_type": "code",
   "execution_count": null,
   "id": "e1296445-e5b3-40e4-a453-384c63fece1b",
   "metadata": {},
   "outputs": [],
   "source": []
  },
  {
   "cell_type": "code",
   "execution_count": 63,
   "id": "b0c2bf9b-d27a-4b61-8add-54ef95fc21a3",
   "metadata": {},
   "outputs": [
    {
     "data": {
      "text/plain": [
       "0.46192536271651097"
      ]
     },
     "execution_count": 63,
     "metadata": {},
     "output_type": "execute_result"
    }
   ],
   "source": [
    "reg = ElasticNet(alpha = 0.005 , l1_ratio = 0.9)\n",
    "reg.fit(X_train , y_train)\n",
    "y_pred = reg.predict(X_test)\n",
    "\n",
    "r2_score(y_test , y_pred)"
   ]
  }
 ],
 "metadata": {
  "kernelspec": {
   "display_name": "Python [conda env:base] *",
   "language": "python",
   "name": "conda-base-py"
  },
  "language_info": {
   "codemirror_mode": {
    "name": "ipython",
    "version": 3
   },
   "file_extension": ".py",
   "mimetype": "text/x-python",
   "name": "python",
   "nbconvert_exporter": "python",
   "pygments_lexer": "ipython3",
   "version": "3.12.7"
  }
 },
 "nbformat": 4,
 "nbformat_minor": 5
}
